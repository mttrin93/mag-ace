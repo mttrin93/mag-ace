{
 "cells": [
  {
   "cell_type": "markdown",
   "metadata": {},
   "source": [
    "# BASIC VALIDATION NOTEBOOK\n",
    "\n",
    "This is a basic validation notebook for static energy calculation with the magnetic ACE potential.\n",
    "\n",
    "It requires the following external python packages:\n",
    "\n",
    "- Atomic Simulation Environment (ASE): \n",
    "https://wiki.fysik.dtu.dk/ase/index.html"
   ]
  },
  {
   "cell_type": "code",
   "execution_count": 1,
   "metadata": {
    "ExecuteTime": {
     "end_time": "2019-08-09T21:50:04.571395Z",
     "start_time": "2019-08-09T21:50:04.096039Z"
    }
   },
   "outputs": [
    {
     "name": "stdout",
     "output_type": "stream",
     "text": [
      "%pylab is deprecated, use %matplotlib inline and import the required libraries.\n",
      "Populating the interactive namespace from numpy and matplotlib\n"
     ]
    }
   ],
   "source": [
    "%pylab inline"
   ]
  },
  {
   "cell_type": "code",
   "execution_count": 2,
   "metadata": {
    "ExecuteTime": {
     "end_time": "2019-08-09T21:50:04.900894Z",
     "start_time": "2019-08-09T21:50:04.575142Z"
    }
   },
   "outputs": [],
   "source": [
    "# Load ASE (REQUIRED)\n",
    "from ase.calculators.lammpsrun import LAMMPS\n",
    "from ase.constraints import StrainFilter\n",
    "from ase.build import bulk\n",
    "from ase import Atoms\n",
    "\n",
    "# Load standard python modules\n",
    "import shutil\n",
    "import os\n",
    "import glob\n",
    "import numpy as np\n",
    "import copy\n",
    "import matplotlib.pyplot as plt\n",
    "import random\n",
    "import math"
   ]
  },
  {
   "cell_type": "code",
   "execution_count": null,
   "metadata": {},
   "outputs": [],
   "source": []
  },
  {
   "cell_type": "markdown",
   "metadata": {},
   "source": [
    "# USER INPUT\n",
    "- define the calculator and its parameters\n",
    "- name, mass and equilibrium crystal structure of the calculated element"
   ]
  },
  {
   "cell_type": "code",
   "execution_count": 3,
   "metadata": {},
   "outputs": [
    {
     "name": "stdout",
     "output_type": "stream",
     "text": [
      "/home/utente/Documenti/fitFe_tesi/fortran_code_for_submission/ace_etot_submission/example\r\n"
     ]
    }
   ],
   "source": [
    "!pwd"
   ]
  },
  {
   "cell_type": "code",
   "execution_count": 4,
   "metadata": {
    "ExecuteTime": {
     "end_time": "2019-08-09T21:50:04.969556Z",
     "start_time": "2019-08-09T21:50:04.904796Z"
    }
   },
   "outputs": [
    {
     "name": "stdout",
     "output_type": "stream",
     "text": [
      "Current directory:  /home/utente/Documenti/fitFe_tesi/fortran_code_for_submission/ace_etot_submission/example\n",
      "Calculations will run in directory:  /tmp/test_ace\n"
     ]
    }
   ],
   "source": [
    "# Save starting directory\n",
    "save_cwd=os.getcwd()\n",
    "print(\"Current directory: \",save_cwd)\n",
    "\n",
    "# Set where lammps calculations will be done\n",
    "tmp_folder=\"/tmp/test_ace\"\n",
    "\n",
    "# Better remove whatever is left there\n",
    "shutil.rmtree(tmp_folder, ignore_errors = True)\n",
    "print(\"Calculations will run in directory: \",tmp_folder)\n",
    "if not os.path.isdir(tmp_folder):\n",
    "    os.mkdir(tmp_folder)"
   ]
  },
  {
   "cell_type": "code",
   "execution_count": 5,
   "metadata": {},
   "outputs": [],
   "source": [
    "path_to_potential = '/home/utente/lammps-ace/examples/SPIN/iron_test_s'\n",
    "path_to_binary = '/home/utente/Documenti/lammps-ace_etot1/src'"
   ]
  },
  {
   "cell_type": "code",
   "execution_count": 6,
   "metadata": {},
   "outputs": [],
   "source": [
    "# ACE parameter file\n",
    "\n",
    "model = 'pot_Fe_empty.ace'\n",
    "potential='{}/pot_Fe_empty.ace'.format(path_to_potential)"
   ]
  },
  {
   "cell_type": "code",
   "execution_count": 7,
   "metadata": {},
   "outputs": [],
   "source": [
    "# LAMMPS binary\n",
    "\n",
    "os.environ['ASE_LAMMPSRUN_COMMAND']='{}/lmp_serial'.format(path_to_binary)"
   ]
  },
  {
   "cell_type": "code",
   "execution_count": 8,
   "metadata": {},
   "outputs": [],
   "source": [
    "# Set up LAMMPS calculator in ASE\n",
    "\n",
    "parameters = {'pair_style':'hybrid/overlay pace spin/ace 1 4.5 4.0 pbe 0.2',\n",
    "              'pair_coeff':['* * pace {} Fe'.format(potential),'* * spin/ace ace Fe'],\n",
    "              'tmp_dir':tmp_folder,\n",
    "              'atom_style':'spin'}\n",
    "\n",
    "lammps = LAMMPS(**parameters)"
   ]
  },
  {
   "cell_type": "code",
   "execution_count": 9,
   "metadata": {},
   "outputs": [
    {
     "data": {
      "text/plain": [
       "0"
      ]
     },
     "execution_count": 9,
     "metadata": {},
     "output_type": "execute_result"
    }
   ],
   "source": [
    "os.system('cp {}/Fe.pbe.in {}'.format(path_to_potential, tmp_folder))"
   ]
  },
  {
   "cell_type": "code",
   "execution_count": null,
   "metadata": {},
   "outputs": [],
   "source": []
  },
  {
   "cell_type": "markdown",
   "metadata": {},
   "source": [
    "# STATIC ENERGY CALCULATION"
   ]
  },
  {
   "cell_type": "code",
   "execution_count": 10,
   "metadata": {},
   "outputs": [],
   "source": [
    "latpar = 2.83"
   ]
  },
  {
   "cell_type": "code",
   "execution_count": 11,
   "metadata": {},
   "outputs": [],
   "source": [
    "m_eq = 2.22"
   ]
  },
  {
   "cell_type": "code",
   "execution_count": 12,
   "metadata": {},
   "outputs": [],
   "source": [
    "unitcell = bulk(\"Fe\",crystalstructure=\"bcc\",a=latpar,cubic=True)"
   ]
  },
  {
   "cell_type": "code",
   "execution_count": 13,
   "metadata": {},
   "outputs": [],
   "source": [
    "mag_mom = np.array([[0., 0., m_eq], [0., 0., m_eq]])\n",
    "unitcell.set_initial_magnetic_moments(mag_mom)"
   ]
  },
  {
   "cell_type": "code",
   "execution_count": 14,
   "metadata": {},
   "outputs": [],
   "source": [
    "unitcell.set_calculator(lammps)"
   ]
  },
  {
   "cell_type": "code",
   "execution_count": 15,
   "metadata": {},
   "outputs": [
    {
     "data": {
      "text/plain": [
       "-15.7479878560111"
      ]
     },
     "execution_count": 15,
     "metadata": {},
     "output_type": "execute_result"
    }
   ],
   "source": [
    "unitcell.get_total_energy()"
   ]
  },
  {
   "cell_type": "code",
   "execution_count": 16,
   "metadata": {},
   "outputs": [
    {
     "data": {
      "text/plain": [
       "array([[0.00000000e+00, 1.38777878e-17, 3.36856679e-17],\n",
       "       [5.55111512e-17, 4.51028104e-17, 9.65858078e-17]])"
      ]
     },
     "execution_count": 16,
     "metadata": {},
     "output_type": "execute_result"
    }
   ],
   "source": [
    "unitcell.get_forces()"
   ]
  },
  {
   "cell_type": "code",
   "execution_count": null,
   "metadata": {},
   "outputs": [],
   "source": []
  },
  {
   "cell_type": "code",
   "execution_count": null,
   "metadata": {},
   "outputs": [],
   "source": []
  },
  {
   "cell_type": "code",
   "execution_count": null,
   "metadata": {},
   "outputs": [],
   "source": []
  }
 ],
 "metadata": {
  "kernelspec": {
   "display_name": "Python 3 (ipykernel)",
   "language": "python",
   "name": "python3"
  },
  "language_info": {
   "codemirror_mode": {
    "name": "ipython",
    "version": 3
   },
   "file_extension": ".py",
   "mimetype": "text/x-python",
   "name": "python",
   "nbconvert_exporter": "python",
   "pygments_lexer": "ipython3",
   "version": "3.8.8"
  }
 },
 "nbformat": 4,
 "nbformat_minor": 4
}
